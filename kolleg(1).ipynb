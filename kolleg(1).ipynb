{
  "nbformat": 4,
  "nbformat_minor": 0,
  "metadata": {
    "colab": {
      "provenance": [],
      "authorship_tag": "ABX9TyMyGoPDyqUBSB2otzi+aWyG",
      "include_colab_link": true
    },
    "kernelspec": {
      "name": "python3",
      "display_name": "Python 3"
    },
    "language_info": {
      "name": "python"
    }
  },
  "cells": [
    {
      "cell_type": "markdown",
      "metadata": {
        "id": "view-in-github",
        "colab_type": "text"
      },
      "source": [
        "<a href=\"https://colab.research.google.com/github/aaratighimire06/demo/blob/main/kolleg(1).ipynb\" target=\"_parent\"><img src=\"https://colab.research.google.com/assets/colab-badge.svg\" alt=\"Open In Colab\"/></a>"
      ]
    },
    {
      "cell_type": "code",
      "execution_count": null,
      "metadata": {
        "colab": {
          "base_uri": "https://localhost:8080/"
        },
        "id": "3B2OELuG0Dms",
        "outputId": "2af28a7b-9d07-455a-f66f-62937d9889d3"
      },
      "outputs": [
        {
          "output_type": "stream",
          "name": "stdout",
          "text": [
            "Gib ein Zahl ein 7\n",
            "Die Summe der gerade Zahlen:  12\n",
            "Die Summe der ungerade Zahlen:  16\n"
          ]
        }
      ],
      "source": [
        "z = input(\"Gib ein Zahl ein \")\n",
        "z_i = int(z)\n",
        "\n",
        "gerade = 0\n",
        "ungerade = 0\n",
        "\n",
        "\n",
        "for i in range(0, z_i + 1, 2):\n",
        "  gerade += i\n",
        "\n",
        "for i in range(0, z_i + 1, 2):\n",
        "  ungerade += i+1\n",
        "\n",
        "print(\"Die Summe der gerade Zahlen: \", gerade)\n",
        "print(\"Die Summe der ungerade Zahlen: \", ungerade)\n"
      ]
    }
  ]
}